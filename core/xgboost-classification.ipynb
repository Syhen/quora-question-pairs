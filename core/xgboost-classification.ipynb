{
 "cells": [
  {
   "cell_type": "code",
   "execution_count": 21,
   "metadata": {
    "ExecuteTime": {
     "end_time": "2018-11-01T12:52:42.445755Z",
     "start_time": "2018-11-01T12:52:42.313804Z"
    }
   },
   "outputs": [],
   "source": [
    "from __future__ import print_function, division\n",
    "\n",
    "import sys\n",
    "import logging\n",
    "stdout = sys.stdout\n",
    "\n",
    "import nltk\n",
    "from nltk.corpus import stopwords\n",
    "from nltk.tokenize import word_tokenize\n",
    "import numpy as np\n",
    "import pandas as pd\n",
    "from sklearn.model_selection import train_test_split\n",
    "from sklearn.feature_extraction.text import TfidfVectorizer\n",
    "import xgboost as xgb\n",
    "\n",
    "reload(sys)\n",
    "sys.setdefaultencoding('latin')\n",
    "sys.stdout = stdout\n",
    "logging.basicConfig(loglevel=\"ERROR\")"
   ]
  },
  {
   "cell_type": "code",
   "execution_count": 22,
   "metadata": {
    "ExecuteTime": {
     "end_time": "2018-11-01T12:52:56.627194Z",
     "start_time": "2018-11-01T12:52:47.244278Z"
    }
   },
   "outputs": [
    {
     "name": "stdout",
     "output_type": "stream",
     "text": [
      "train data shape: (404290, 6)\n",
      "test data shape: (2345796, 3)\n"
     ]
    }
   ],
   "source": [
    "train_data = pd.read_csv(\"../datasets/train.csv\")\n",
    "test_data = pd.read_csv(\"../datasets/test_unique.csv\")\n",
    "train_data = train_data.fillna(\"\")\n",
    "test_data = test_data.fillna(\"\")\n",
    "print(\"train data shape:\", train_data.shape)\n",
    "print(\"test data shape:\", test_data.shape)"
   ]
  },
  {
   "cell_type": "code",
   "execution_count": null,
   "metadata": {
    "ExecuteTime": {
     "end_time": "2018-10-31T08:38:01.445014Z",
     "start_time": "2018-10-31T08:37:57.222Z"
    }
   },
   "outputs": [],
   "source": [
    "# nltk.download('stopwords')"
   ]
  },
  {
   "cell_type": "code",
   "execution_count": 23,
   "metadata": {
    "ExecuteTime": {
     "end_time": "2018-11-01T12:53:39.230382Z",
     "start_time": "2018-11-01T12:53:39.207164Z"
    }
   },
   "outputs": [],
   "source": [
    "eng_stopwords = set(stopwords.words(\"english\"))"
   ]
  },
  {
   "cell_type": "code",
   "execution_count": 24,
   "metadata": {
    "ExecuteTime": {
     "end_time": "2018-11-01T12:53:40.196591Z",
     "start_time": "2018-11-01T12:53:40.187369Z"
    }
   },
   "outputs": [],
   "source": [
    "def base_score(w1, w2):\n",
    "    \"\"\"\n",
    "    :param w1: list.\n",
    "    :param w2: list.\n",
    "    \"\"\"\n",
    "    mom = len(w1) + len(w2)\n",
    "    if mom == 0:\n",
    "        return 0\n",
    "    return len(set(w1) & set(w2)) / mom"
   ]
  },
  {
   "cell_type": "code",
   "execution_count": 25,
   "metadata": {
    "ExecuteTime": {
     "end_time": "2018-11-01T12:53:40.793680Z",
     "start_time": "2018-11-01T12:53:40.789757Z"
    }
   },
   "outputs": [],
   "source": [
    "def tfidf_score(w1, w2):\n",
    "    return 0"
   ]
  },
  {
   "cell_type": "code",
   "execution_count": 31,
   "metadata": {
    "ExecuteTime": {
     "end_time": "2018-11-01T13:15:34.558527Z",
     "start_time": "2018-11-01T13:15:34.548502Z"
    }
   },
   "outputs": [],
   "source": [
    "def words_shared_score(row, scoring=\"base\"):\n",
    "    def tokenize(s):\n",
    "        return [w for w in s.lower().split() if w not in eng_stopwords]\n",
    "#         return [w for w in word_tokenize(s.lower()) if w not in eng_stopwords]  #  if w not in eng_stopwords\n",
    "    \n",
    "    if row is None:\n",
    "        return 0\n",
    "    q1 = row['question1']\n",
    "    q2 = row['question2']\n",
    "    w1 = tokenize(q1)\n",
    "    w2 = tokenize(q2)\n",
    "    if scoring == \"base\":\n",
    "        return base_score(w1, w2)\n",
    "    if scoring == \"tfidf\":\n",
    "        return tfidf_score(w1, w2)\n",
    "    raise ValueError(\"scoring must be base or tfidf\")"
   ]
  },
  {
   "cell_type": "code",
   "execution_count": 32,
   "metadata": {
    "ExecuteTime": {
     "end_time": "2018-11-01T13:15:35.746225Z",
     "start_time": "2018-11-01T13:15:35.739399Z"
    }
   },
   "outputs": [
    {
     "data": {
      "text/plain": [
       "0.3333333333333333"
      ]
     },
     "execution_count": 32,
     "metadata": {},
     "output_type": "execute_result"
    }
   ],
   "source": [
    "words_shared_score({\"question1\": \"I'm ok\", \"question2\": \"not ok\"})"
   ]
  },
  {
   "cell_type": "code",
   "execution_count": 33,
   "metadata": {
    "ExecuteTime": {
     "end_time": "2018-11-01T13:17:46.172218Z",
     "start_time": "2018-11-01T13:15:42.373467Z"
    }
   },
   "outputs": [],
   "source": [
    "X_train = pd.DataFrame()\n",
    "X_test = pd.DataFrame()\n",
    "X_train[\"match_words\"] = train_data.apply(words_shared_score, axis=1, raw=True)\n",
    "X_test[\"match_words\"] = test_data.apply(words_shared_score, axis=1, raw=True)"
   ]
  },
  {
   "cell_type": "code",
   "execution_count": 34,
   "metadata": {
    "ExecuteTime": {
     "end_time": "2018-11-01T13:17:46.364972Z",
     "start_time": "2018-11-01T13:17:46.176018Z"
    }
   },
   "outputs": [
    {
     "name": "stdout",
     "output_type": "stream",
     "text": [
      "add n: 500334\n",
      "0.165000044217\n"
     ]
    }
   ],
   "source": [
    "# pos rate and add sampling\n",
    "train_pos_rate = train_data.is_duplicate.mean()\n",
    "test_pos_rate = 0.165\n",
    "neg_idx = train_data.is_duplicate == 0\n",
    "neg_data = X_train[neg_idx]\n",
    "# neg_data = train_data[train_data.is_duplicate == 0]\n",
    "add_n = int((train_data.shape[0] - neg_data.shape[0]) / test_pos_rate - train_data.shape[0])\n",
    "print(\"add n:\", add_n)\n",
    "# train_data_sampling = pd.concat([X_train, neg_data.sample(add_n, replace=True)], axis=0)\n",
    "# print((train_data.shape[0] - neg_data.shape[0]) / train_data_sampling.shape[0])\n",
    "X_train = pd.concat([X_train, neg_data.sample(add_n, replace=True)], axis=0)\n",
    "print((train_data.shape[0] - neg_data.shape[0]) / X_train.shape[0])\n",
    "y_train = np.array(list(train_data.is_duplicate.values) + [0] * add_n)"
   ]
  },
  {
   "cell_type": "code",
   "execution_count": 9,
   "metadata": {
    "ExecuteTime": {
     "end_time": "2018-11-01T03:17:58.294038Z",
     "start_time": "2018-11-01T03:12:15.606613Z"
    }
   },
   "outputs": [],
   "source": [
    "# X_train = pd.DataFrame()\n",
    "# X_test = pd.DataFrame()\n",
    "# X_train[\"match_words\"] = train_data_sampling.apply(words_shared_score, axis=1, raw=True)\n",
    "# X_test[\"match_words\"] = test_data.apply(words_shared_score, axis=1, raw=True)"
   ]
  },
  {
   "cell_type": "raw",
   "metadata": {},
   "source": [
    "pd.concat([X_train.head(), train_data.head()], axis=1)"
   ]
  },
  {
   "cell_type": "code",
   "execution_count": 20,
   "metadata": {
    "ExecuteTime": {
     "end_time": "2018-11-01T03:34:28.755695Z",
     "start_time": "2018-11-01T03:34:28.729377Z"
    }
   },
   "outputs": [
    {
     "data": {
      "text/html": [
       "<div>\n",
       "<style scoped>\n",
       "    .dataframe tbody tr th:only-of-type {\n",
       "        vertical-align: middle;\n",
       "    }\n",
       "\n",
       "    .dataframe tbody tr th {\n",
       "        vertical-align: top;\n",
       "    }\n",
       "\n",
       "    .dataframe thead th {\n",
       "        text-align: right;\n",
       "    }\n",
       "</style>\n",
       "<table border=\"1\" class=\"dataframe\">\n",
       "  <thead>\n",
       "    <tr style=\"text-align: right;\">\n",
       "      <th></th>\n",
       "      <th>match_words</th>\n",
       "      <th>id</th>\n",
       "      <th>qid1</th>\n",
       "      <th>qid2</th>\n",
       "      <th>question1</th>\n",
       "      <th>question2</th>\n",
       "      <th>is_duplicate</th>\n",
       "    </tr>\n",
       "  </thead>\n",
       "  <tbody>\n",
       "    <tr>\n",
       "      <th>0</th>\n",
       "      <td>0.400000</td>\n",
       "      <td>0</td>\n",
       "      <td>1</td>\n",
       "      <td>2</td>\n",
       "      <td>What is the step by step guide to invest in sh...</td>\n",
       "      <td>What is the step by step guide to invest in sh...</td>\n",
       "      <td>0</td>\n",
       "    </tr>\n",
       "    <tr>\n",
       "      <th>1</th>\n",
       "      <td>0.315789</td>\n",
       "      <td>1</td>\n",
       "      <td>3</td>\n",
       "      <td>4</td>\n",
       "      <td>What is the story of Kohinoor (Koh-i-Noor) Dia...</td>\n",
       "      <td>What would happen if the Indian government sto...</td>\n",
       "      <td>0</td>\n",
       "    </tr>\n",
       "    <tr>\n",
       "      <th>2</th>\n",
       "      <td>0.230769</td>\n",
       "      <td>2</td>\n",
       "      <td>5</td>\n",
       "      <td>6</td>\n",
       "      <td>How can I increase the speed of my internet co...</td>\n",
       "      <td>How can Internet speed be increased by hacking...</td>\n",
       "      <td>0</td>\n",
       "    </tr>\n",
       "    <tr>\n",
       "      <th>3</th>\n",
       "      <td>0.050000</td>\n",
       "      <td>3</td>\n",
       "      <td>7</td>\n",
       "      <td>8</td>\n",
       "      <td>Why am I mentally very lonely? How can I solve...</td>\n",
       "      <td>Find the remainder when [math]23^{24}[/math] i...</td>\n",
       "      <td>0</td>\n",
       "    </tr>\n",
       "    <tr>\n",
       "      <th>4</th>\n",
       "      <td>0.157895</td>\n",
       "      <td>4</td>\n",
       "      <td>9</td>\n",
       "      <td>10</td>\n",
       "      <td>Which one dissolve in water quikly sugar, salt...</td>\n",
       "      <td>Which fish would survive in salt water?</td>\n",
       "      <td>0</td>\n",
       "    </tr>\n",
       "  </tbody>\n",
       "</table>\n",
       "</div>"
      ],
      "text/plain": [
       "   match_words  id  qid1  qid2  \\\n",
       "0     0.400000   0     1     2   \n",
       "1     0.315789   1     3     4   \n",
       "2     0.230769   2     5     6   \n",
       "3     0.050000   3     7     8   \n",
       "4     0.157895   4     9    10   \n",
       "\n",
       "                                           question1  \\\n",
       "0  What is the step by step guide to invest in sh...   \n",
       "1  What is the story of Kohinoor (Koh-i-Noor) Dia...   \n",
       "2  How can I increase the speed of my internet co...   \n",
       "3  Why am I mentally very lonely? How can I solve...   \n",
       "4  Which one dissolve in water quikly sugar, salt...   \n",
       "\n",
       "                                           question2  is_duplicate  \n",
       "0  What is the step by step guide to invest in sh...             0  \n",
       "1  What would happen if the Indian government sto...             0  \n",
       "2  How can Internet speed be increased by hacking...             0  \n",
       "3  Find the remainder when [math]23^{24}[/math] i...             0  \n",
       "4            Which fish would survive in salt water?             0  "
      ]
     },
     "execution_count": 20,
     "metadata": {},
     "output_type": "execute_result"
    }
   ],
   "source": [
    "pd.concat([X_train.head(), train_data_sampling.head()], axis=1)"
   ]
  },
  {
   "cell_type": "code",
   "execution_count": 12,
   "metadata": {
    "ExecuteTime": {
     "end_time": "2018-10-31T08:39:02.213227Z",
     "start_time": "2018-10-31T08:39:02.204233Z"
    }
   },
   "outputs": [
    {
     "data": {
      "text/plain": [
       "True"
      ]
     },
     "execution_count": 12,
     "metadata": {},
     "output_type": "execute_result"
    }
   ],
   "source": [
    "'which' in eng_stopwords"
   ]
  },
  {
   "cell_type": "code",
   "execution_count": 35,
   "metadata": {
    "ExecuteTime": {
     "end_time": "2018-11-01T13:17:46.734302Z",
     "start_time": "2018-11-01T13:17:46.368963Z"
    }
   },
   "outputs": [],
   "source": [
    "X_train_sub, X_val_sub, y_train_sub, y_val_sub = train_test_split(X_train, y_train, test_size=0.1, \n",
    "                                                                  random_state=40, stratify=y_train)"
   ]
  },
  {
   "cell_type": "code",
   "execution_count": 36,
   "metadata": {
    "ExecuteTime": {
     "end_time": "2018-11-01T13:18:32.785456Z",
     "start_time": "2018-11-01T13:17:46.737990Z"
    }
   },
   "outputs": [
    {
     "name": "stdout",
     "output_type": "stream",
     "text": [
      "train on 814161 samples, validate on 90463 samples.\n",
      "[0]\ttrain-logloss:0.682391\tvalidate-logloss:0.682364\n",
      "Multiple eval metrics have been passed: 'validate-logloss' will be used for early stopping.\n",
      "\n",
      "Will train until validate-logloss hasn't improved in 50 rounds.\n",
      "[10]\ttrain-logloss:0.594753\tvalidate-logloss:0.594521\n",
      "[20]\ttrain-logloss:0.533052\tvalidate-logloss:0.532689\n",
      "[30]\ttrain-logloss:0.488157\tvalidate-logloss:0.487701\n",
      "[40]\ttrain-logloss:0.454756\tvalidate-logloss:0.45422\n",
      "[50]\ttrain-logloss:0.429493\tvalidate-logloss:0.428879\n",
      "[60]\ttrain-logloss:0.410155\tvalidate-logloss:0.409479\n",
      "[70]\ttrain-logloss:0.395194\tvalidate-logloss:0.39447\n",
      "[80]\ttrain-logloss:0.383554\tvalidate-logloss:0.382791\n",
      "[90]\ttrain-logloss:0.374476\tvalidate-logloss:0.373683\n",
      "[100]\ttrain-logloss:0.36738\tvalidate-logloss:0.366562\n",
      "[110]\ttrain-logloss:0.361785\tvalidate-logloss:0.360949\n",
      "[120]\ttrain-logloss:0.357365\tvalidate-logloss:0.356513\n",
      "[130]\ttrain-logloss:0.353863\tvalidate-logloss:0.353\n",
      "[140]\ttrain-logloss:0.351082\tvalidate-logloss:0.350206\n",
      "[150]\ttrain-logloss:0.348862\tvalidate-logloss:0.347977\n",
      "[160]\ttrain-logloss:0.347075\tvalidate-logloss:0.346179\n",
      "[170]\ttrain-logloss:0.345649\tvalidate-logloss:0.344746\n",
      "[180]\ttrain-logloss:0.344515\tvalidate-logloss:0.343607\n",
      "[190]\ttrain-logloss:0.343604\tvalidate-logloss:0.342688\n",
      "[200]\ttrain-logloss:0.3429\tvalidate-logloss:0.341984\n",
      "[210]\ttrain-logloss:0.34231\tvalidate-logloss:0.34139\n",
      "[220]\ttrain-logloss:0.341804\tvalidate-logloss:0.340871\n",
      "[230]\ttrain-logloss:0.341408\tvalidate-logloss:0.340465\n",
      "[240]\ttrain-logloss:0.34108\tvalidate-logloss:0.340127\n",
      "[250]\ttrain-logloss:0.340818\tvalidate-logloss:0.339856\n",
      "[260]\ttrain-logloss:0.34061\tvalidate-logloss:0.339642\n",
      "[270]\ttrain-logloss:0.340443\tvalidate-logloss:0.339472\n",
      "[280]\ttrain-logloss:0.340289\tvalidate-logloss:0.339306\n",
      "[290]\ttrain-logloss:0.340178\tvalidate-logloss:0.339191\n",
      "[300]\ttrain-logloss:0.340065\tvalidate-logloss:0.339072\n",
      "[310]\ttrain-logloss:0.339957\tvalidate-logloss:0.338954\n",
      "[320]\ttrain-logloss:0.339868\tvalidate-logloss:0.33886\n",
      "[330]\ttrain-logloss:0.339781\tvalidate-logloss:0.33877\n",
      "[340]\ttrain-logloss:0.3397\tvalidate-logloss:0.338686\n",
      "[350]\ttrain-logloss:0.339613\tvalidate-logloss:0.338593\n",
      "[360]\ttrain-logloss:0.339542\tvalidate-logloss:0.338516\n",
      "[370]\ttrain-logloss:0.339478\tvalidate-logloss:0.338447\n",
      "[380]\ttrain-logloss:0.339418\tvalidate-logloss:0.338382\n",
      "[390]\ttrain-logloss:0.33937\tvalidate-logloss:0.338328\n",
      "[399]\ttrain-logloss:0.339334\tvalidate-logloss:0.338288\n"
     ]
    }
   ],
   "source": [
    "params = {\n",
    "    \"objective\": \"binary:logistic\",\n",
    "    \"eval_metric\": \"logloss\",\n",
    "    \"eta\": 0.02,\n",
    "    \"max_depth\": 4,\n",
    "    'silent': 1\n",
    "}\n",
    "d_train = xgb.DMatrix(X_train_sub, y_train_sub)\n",
    "d_val = xgb.DMatrix(X_val_sub, y_val_sub)\n",
    "watch_list = [(d_train, 'train'), (d_val, 'validate')]\n",
    "print(\"train on\", X_train_sub.shape[0], \"samples, validate on\", X_val_sub.shape[0], \"samples.\")\n",
    "bst = xgb.train(params, d_train, 400, watch_list, early_stopping_rounds=50, verbose_eval=10)"
   ]
  },
  {
   "cell_type": "code",
   "execution_count": 54,
   "metadata": {
    "ExecuteTime": {
     "end_time": "2018-10-31T11:29:22.844586Z",
     "start_time": "2018-10-31T11:29:22.834233Z"
    }
   },
   "outputs": [
    {
     "name": "stdout",
     "output_type": "stream",
     "text": [
      "904624\n",
      "149263\n",
      "814161\n",
      "134337\n"
     ]
    }
   ],
   "source": [
    "print(len(y_train))\n",
    "print(y_train.sum())\n",
    "print(len(y_train_sub))\n",
    "print(y_train_sub.sum())"
   ]
  },
  {
   "cell_type": "code",
   "execution_count": 37,
   "metadata": {
    "ExecuteTime": {
     "end_time": "2018-11-01T13:19:53.300695Z",
     "start_time": "2018-11-01T13:19:10.341329Z"
    }
   },
   "outputs": [],
   "source": [
    "d_test = xgb.DMatrix(X_test)\n",
    "p_test = bst.predict(d_test)\n",
    "\n",
    "sub = pd.DataFrame()\n",
    "sub['test_id'] = test_data['test_id']\n",
    "sub['is_duplicate'] = p_test\n",
    "sub.to_csv(\"../xgb_shared_words_with_sampling_just_split.csv.gz\", index=False, compression=\"gzip\")"
   ]
  },
  {
   "cell_type": "code",
   "execution_count": 38,
   "metadata": {
    "ExecuteTime": {
     "end_time": "2018-11-01T13:19:53.315763Z",
     "start_time": "2018-11-01T13:19:53.304483Z"
    }
   },
   "outputs": [
    {
     "data": {
      "text/plain": [
       "(2345796, 2)"
      ]
     },
     "execution_count": 38,
     "metadata": {},
     "output_type": "execute_result"
    }
   ],
   "source": [
    "sub.shape"
   ]
  },
  {
   "cell_type": "code",
   "execution_count": 39,
   "metadata": {
    "ExecuteTime": {
     "end_time": "2018-11-01T13:19:57.671823Z",
     "start_time": "2018-11-01T13:19:57.654673Z"
    }
   },
   "outputs": [
    {
     "data": {
      "text/html": [
       "<div>\n",
       "<style scoped>\n",
       "    .dataframe tbody tr th:only-of-type {\n",
       "        vertical-align: middle;\n",
       "    }\n",
       "\n",
       "    .dataframe tbody tr th {\n",
       "        vertical-align: top;\n",
       "    }\n",
       "\n",
       "    .dataframe thead th {\n",
       "        text-align: right;\n",
       "    }\n",
       "</style>\n",
       "<table border=\"1\" class=\"dataframe\">\n",
       "  <thead>\n",
       "    <tr style=\"text-align: right;\">\n",
       "      <th></th>\n",
       "      <th>test_id</th>\n",
       "      <th>is_duplicate</th>\n",
       "    </tr>\n",
       "  </thead>\n",
       "  <tbody>\n",
       "    <tr>\n",
       "      <th>0</th>\n",
       "      <td>0</td>\n",
       "      <td>0.033063</td>\n",
       "    </tr>\n",
       "    <tr>\n",
       "      <th>1</th>\n",
       "      <td>1</td>\n",
       "      <td>0.324146</td>\n",
       "    </tr>\n",
       "    <tr>\n",
       "      <th>2</th>\n",
       "      <td>2</td>\n",
       "      <td>0.331760</td>\n",
       "    </tr>\n",
       "    <tr>\n",
       "      <th>3</th>\n",
       "      <td>3</td>\n",
       "      <td>0.000723</td>\n",
       "    </tr>\n",
       "    <tr>\n",
       "      <th>4</th>\n",
       "      <td>4</td>\n",
       "      <td>0.280286</td>\n",
       "    </tr>\n",
       "  </tbody>\n",
       "</table>\n",
       "</div>"
      ],
      "text/plain": [
       "   test_id  is_duplicate\n",
       "0        0      0.033063\n",
       "1        1      0.324146\n",
       "2        2      0.331760\n",
       "3        3      0.000723\n",
       "4        4      0.280286"
      ]
     },
     "execution_count": 39,
     "metadata": {},
     "output_type": "execute_result"
    }
   ],
   "source": [
    "sub.head()"
   ]
  },
  {
   "cell_type": "code",
   "execution_count": 18,
   "metadata": {},
   "outputs": [
    {
     "name": "stdout",
     "output_type": "stream",
     "text": [
      "(814161, 1)\n",
      "(90463, 1)\n",
      "(814161,)\n",
      "(90463,)\n"
     ]
    }
   ],
   "source": [
    "shape_data = [X_train_sub, X_val_sub, y_train_sub, y_val_sub]\n",
    "for i in shape_data:\n",
    "    print(i.shape)"
   ]
  },
  {
   "cell_type": "code",
   "execution_count": 28,
   "metadata": {},
   "outputs": [
    {
     "name": "stdout",
     "output_type": "stream",
     "text": [
      "{'qid2': 10, 'qid1': 9, 'is_duplicate': 0, 'question1': 'Which one dissolve in water quikly sugar, salt, methane and carbon di oxide?', 'question2': 'Which fish would survive in salt water?', 'id': 4}\n",
      "['one', 'dissolve', 'water', 'quikly', 'sugar,', 'salt,', 'methane', 'carbon', 'di', 'oxide?']\n",
      "['fish', 'would', 'survive', 'salt', 'water?']\n",
      "set([])\n"
     ]
    },
    {
     "data": {
      "text/plain": [
       "0.0"
      ]
     },
     "execution_count": 28,
     "metadata": {},
     "output_type": "execute_result"
    }
   ],
   "source": [
    "qs = train_data[4:5].to_dict('records')[0]\n",
    "print(qs)\n",
    "words_shared_score(qs)"
   ]
  },
  {
   "cell_type": "code",
   "execution_count": 19,
   "metadata": {
    "ExecuteTime": {
     "end_time": "2018-11-01T03:34:23.064751Z",
     "start_time": "2018-11-01T03:34:21.078589Z"
    }
   },
   "outputs": [],
   "source": [
    "X_train.to_csv('../datasets/ubuntu_shared_word_score.csv', index=False)"
   ]
  },
  {
   "cell_type": "code",
   "execution_count": null,
   "metadata": {},
   "outputs": [],
   "source": []
  }
 ],
 "metadata": {
  "kernelspec": {
   "display_name": "Python 2",
   "language": "python",
   "name": "python2"
  },
  "language_info": {
   "codemirror_mode": {
    "name": "ipython",
    "version": 2
   },
   "file_extension": ".py",
   "mimetype": "text/x-python",
   "name": "python",
   "nbconvert_exporter": "python",
   "pygments_lexer": "ipython2",
   "version": "2.7.13"
  },
  "latex_envs": {
   "LaTeX_envs_menu_present": true,
   "autocomplete": true,
   "bibliofile": "biblio.bib",
   "cite_by": "apalike",
   "current_citInitial": 1,
   "eqLabelWithNumbers": true,
   "eqNumInitial": 1,
   "hotkeys": {
    "equation": "Ctrl-E",
    "itemize": "Ctrl-I"
   },
   "labels_anchors": false,
   "latex_user_defs": false,
   "report_style_numbering": false,
   "user_envs_cfg": false
  },
  "nbTranslate": {
   "displayLangs": [
    "*"
   ],
   "hotkey": "alt-t",
   "langInMainMenu": true,
   "sourceLang": "en",
   "targetLang": "fr",
   "useGoogleTranslate": true
  },
  "toc": {
   "nav_menu": {},
   "number_sections": true,
   "sideBar": true,
   "skip_h1_title": false,
   "toc_cell": false,
   "toc_position": {},
   "toc_section_display": "block",
   "toc_window_display": false
  }
 },
 "nbformat": 4,
 "nbformat_minor": 2
}
