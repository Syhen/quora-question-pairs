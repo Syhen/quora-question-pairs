{
 "cells": [
  {
   "cell_type": "code",
   "execution_count": 12,
   "metadata": {},
   "outputs": [],
   "source": [
    "import pandas as pd\n",
    "\n",
    "from to_feature import sentences2feature, tokens2feature, clean_and_tokenize, clean_txt, ltokenize"
   ]
  },
  {
   "cell_type": "code",
   "execution_count": 2,
   "metadata": {},
   "outputs": [
    {
     "data": {
      "text/html": [
       "<div>\n",
       "<style>\n",
       "    .dataframe thead tr:only-child th {\n",
       "        text-align: right;\n",
       "    }\n",
       "\n",
       "    .dataframe thead th {\n",
       "        text-align: left;\n",
       "    }\n",
       "\n",
       "    .dataframe tbody tr th {\n",
       "        vertical-align: top;\n",
       "    }\n",
       "</style>\n",
       "<table border=\"1\" class=\"dataframe\">\n",
       "  <thead>\n",
       "    <tr style=\"text-align: right;\">\n",
       "      <th></th>\n",
       "      <th>question1</th>\n",
       "      <th>question2</th>\n",
       "      <th>words1</th>\n",
       "      <th>words2</th>\n",
       "    </tr>\n",
       "  </thead>\n",
       "  <tbody>\n",
       "    <tr>\n",
       "      <th>0</th>\n",
       "      <td>today is friday.</td>\n",
       "      <td>today is monday.</td>\n",
       "      <td>[today, is, friday.]</td>\n",
       "      <td>[today, is, monday.]</td>\n",
       "    </tr>\n",
       "    <tr>\n",
       "      <th>1</th>\n",
       "      <td>today is friday.</td>\n",
       "      <td>today is monday.</td>\n",
       "      <td>[today, is, friday.]</td>\n",
       "      <td>[today, is, monday.]</td>\n",
       "    </tr>\n",
       "  </tbody>\n",
       "</table>\n",
       "</div>"
      ],
      "text/plain": [
       "          question1         question2                words1  \\\n",
       "0  today is friday.  today is monday.  [today, is, friday.]   \n",
       "1  today is friday.  today is monday.  [today, is, friday.]   \n",
       "\n",
       "                 words2  \n",
       "0  [today, is, monday.]  \n",
       "1  [today, is, monday.]  "
      ]
     },
     "execution_count": 2,
     "metadata": {},
     "output_type": "execute_result"
    }
   ],
   "source": [
    "df = pd.DataFrame({\n",
    "    'question1': [\"today is friday.\", \"today is friday.\"], \n",
    "    'question2': [\"today is monday.\", \"today is monday.\"],\n",
    "    'words1': [[\"today\", \"is\", \"friday.\"], [\"today\", \"is\", \"friday.\"]], \n",
    "    'words2': [[\"today\", \"is\", \"monday.\"], [\"today\", \"is\", \"monday.\"]]\n",
    "})\n",
    "df"
   ]
  },
  {
   "cell_type": "code",
   "execution_count": 3,
   "metadata": {},
   "outputs": [
    {
     "name": "stdout",
     "output_type": "stream",
     "text": [
      "cosine finished.\n",
      "cityblock finished.\n",
      "jaccard finished.\n",
      "canberra finished.\n",
      "minkowski finished.\n",
      "braycurtis finished.\n"
     ]
    },
    {
     "data": {
      "text/html": [
       "<div>\n",
       "<style>\n",
       "    .dataframe thead tr:only-child th {\n",
       "        text-align: right;\n",
       "    }\n",
       "\n",
       "    .dataframe thead th {\n",
       "        text-align: left;\n",
       "    }\n",
       "\n",
       "    .dataframe tbody tr th {\n",
       "        vertical-align: top;\n",
       "    }\n",
       "</style>\n",
       "<table border=\"1\" class=\"dataframe\">\n",
       "  <thead>\n",
       "    <tr style=\"text-align: right;\">\n",
       "      <th></th>\n",
       "      <th>braycurtis_distance</th>\n",
       "      <th>canberra_distance</th>\n",
       "      <th>cityblock_distance</th>\n",
       "      <th>cos_distance</th>\n",
       "      <th>jaccard_distance</th>\n",
       "      <th>minkowski_distance</th>\n",
       "      <th>shared_word_score</th>\n",
       "      <th>words_len1</th>\n",
       "      <th>words_len2</th>\n",
       "    </tr>\n",
       "  </thead>\n",
       "  <tbody>\n",
       "    <tr>\n",
       "      <th>0</th>\n",
       "      <td>0.0</td>\n",
       "      <td>0.0</td>\n",
       "      <td>0.0</td>\n",
       "      <td>0.0</td>\n",
       "      <td>0.0</td>\n",
       "      <td>0.0</td>\n",
       "      <td>0.333333</td>\n",
       "      <td>3</td>\n",
       "      <td>3</td>\n",
       "    </tr>\n",
       "    <tr>\n",
       "      <th>1</th>\n",
       "      <td>0.0</td>\n",
       "      <td>0.0</td>\n",
       "      <td>0.0</td>\n",
       "      <td>0.0</td>\n",
       "      <td>0.0</td>\n",
       "      <td>0.0</td>\n",
       "      <td>0.333333</td>\n",
       "      <td>3</td>\n",
       "      <td>3</td>\n",
       "    </tr>\n",
       "  </tbody>\n",
       "</table>\n",
       "</div>"
      ],
      "text/plain": [
       "   braycurtis_distance  canberra_distance  cityblock_distance  cos_distance  \\\n",
       "0                  0.0                0.0                 0.0           0.0   \n",
       "1                  0.0                0.0                 0.0           0.0   \n",
       "\n",
       "   jaccard_distance  minkowski_distance  shared_word_score  words_len1  \\\n",
       "0               0.0                 0.0           0.333333           3   \n",
       "1               0.0                 0.0           0.333333           3   \n",
       "\n",
       "   words_len2  \n",
       "0           3  \n",
       "1           3  "
      ]
     },
     "execution_count": 3,
     "metadata": {},
     "output_type": "execute_result"
    }
   ],
   "source": [
    "tokens2feature(df, cleaned=False, verbose=True)"
   ]
  },
  {
   "cell_type": "code",
   "execution_count": 9,
   "metadata": {},
   "outputs": [],
   "source": [
    "train_data = pd.read_csv(\"../datasets/train.csv\")\n",
    "train_data = train_data.fillna(\"\")"
   ]
  },
  {
   "cell_type": "code",
   "execution_count": 13,
   "metadata": {},
   "outputs": [],
   "source": [
    "train_data[\"q1_cleaned\"] = train_data.question1.apply(clean_txt)\n",
    "train_data[\"q2_cleaned\"] = train_data.question2.apply(clean_txt)\n",
    "train_data['words1_cleaned'] = train_data.q1_cleaned.apply(lambda x: ltokenize(x, stem=True))\n",
    "train_data['words2_cleaned'] = train_data.q2_cleaned.apply(lambda x: ltokenize(x, stem=True))"
   ]
  },
  {
   "cell_type": "code",
   "execution_count": 14,
   "metadata": {},
   "outputs": [
    {
     "name": "stdout",
     "output_type": "stream",
     "text": [
      "cosine finished.\n",
      "cityblock finished.\n",
      "jaccard finished.\n",
      "canberra finished.\n",
      "minkowski finished.\n",
      "braycurtis finished.\n"
     ]
    }
   ],
   "source": [
    "token_features = tokens2feature(train_data, cleaned=True, verbose=True)"
   ]
  },
  {
   "cell_type": "code",
   "execution_count": 15,
   "metadata": {},
   "outputs": [
    {
     "name": "stdout",
     "output_type": "stream",
     "text": [
      "qratio finished.\n",
      "wratio finished.\n",
      "partial_ratio finished.\n",
      "partial_token_set_ratio finished.\n",
      "partial_token_sort_ratio finished.\n",
      "token_set_ratio finished.\n",
      "token_sort_ratio finished.\n"
     ]
    }
   ],
   "source": [
    "sentence_features = sentences2feature(train_data, cleaned=True, verbose=True)"
   ]
  },
  {
   "cell_type": "code",
   "execution_count": 16,
   "metadata": {},
   "outputs": [
    {
     "data": {
      "text/html": [
       "<div>\n",
       "<style>\n",
       "    .dataframe thead tr:only-child th {\n",
       "        text-align: right;\n",
       "    }\n",
       "\n",
       "    .dataframe thead th {\n",
       "        text-align: left;\n",
       "    }\n",
       "\n",
       "    .dataframe tbody tr th {\n",
       "        vertical-align: top;\n",
       "    }\n",
       "</style>\n",
       "<table border=\"1\" class=\"dataframe\">\n",
       "  <thead>\n",
       "    <tr style=\"text-align: right;\">\n",
       "      <th></th>\n",
       "      <th>braycurtis_distance</th>\n",
       "      <th>canberra_distance</th>\n",
       "      <th>cityblock_distance</th>\n",
       "      <th>cos_distance</th>\n",
       "      <th>jaccard_distance</th>\n",
       "      <th>minkowski_distance</th>\n",
       "      <th>shared_word_score</th>\n",
       "      <th>words_len1</th>\n",
       "      <th>words_len2</th>\n",
       "    </tr>\n",
       "  </thead>\n",
       "  <tbody>\n",
       "    <tr>\n",
       "      <th>0</th>\n",
       "      <td>0.142465</td>\n",
       "      <td>32.635204</td>\n",
       "      <td>24.759953</td>\n",
       "      <td>0.041607</td>\n",
       "      <td>1.0</td>\n",
       "      <td>2.819773</td>\n",
       "      <td>0.307692</td>\n",
       "      <td>7</td>\n",
       "      <td>6</td>\n",
       "    </tr>\n",
       "    <tr>\n",
       "      <th>1</th>\n",
       "      <td>0.870533</td>\n",
       "      <td>87.560307</td>\n",
       "      <td>86.794571</td>\n",
       "      <td>0.873567</td>\n",
       "      <td>1.0</td>\n",
       "      <td>9.620695</td>\n",
       "      <td>0.153846</td>\n",
       "      <td>4</td>\n",
       "      <td>9</td>\n",
       "    </tr>\n",
       "  </tbody>\n",
       "</table>\n",
       "</div>"
      ],
      "text/plain": [
       "   braycurtis_distance  canberra_distance  cityblock_distance  cos_distance  \\\n",
       "0             0.142465          32.635204           24.759953      0.041607   \n",
       "1             0.870533          87.560307           86.794571      0.873567   \n",
       "\n",
       "   jaccard_distance  minkowski_distance  shared_word_score  words_len1  \\\n",
       "0               1.0            2.819773           0.307692           7   \n",
       "1               1.0            9.620695           0.153846           4   \n",
       "\n",
       "   words_len2  \n",
       "0           6  \n",
       "1           9  "
      ]
     },
     "execution_count": 16,
     "metadata": {},
     "output_type": "execute_result"
    }
   ],
   "source": [
    "token_features.head(2)"
   ]
  },
  {
   "cell_type": "code",
   "execution_count": 17,
   "metadata": {},
   "outputs": [
    {
     "data": {
      "text/html": [
       "<div>\n",
       "<style>\n",
       "    .dataframe thead tr:only-child th {\n",
       "        text-align: right;\n",
       "    }\n",
       "\n",
       "    .dataframe thead th {\n",
       "        text-align: left;\n",
       "    }\n",
       "\n",
       "    .dataframe tbody tr th {\n",
       "        vertical-align: top;\n",
       "    }\n",
       "</style>\n",
       "<table border=\"1\" class=\"dataframe\">\n",
       "  <thead>\n",
       "    <tr style=\"text-align: right;\">\n",
       "      <th></th>\n",
       "      <th>fuzz_partial_ratio</th>\n",
       "      <th>fuzz_partial_token_set_ratio</th>\n",
       "      <th>fuzz_partial_token_sort_ratio</th>\n",
       "      <th>fuzz_qratio</th>\n",
       "      <th>fuzz_token_set_ratio</th>\n",
       "      <th>fuzz_token_sort_ratio</th>\n",
       "      <th>fuzz_wratio</th>\n",
       "      <th>question_len1</th>\n",
       "      <th>question_len2</th>\n",
       "    </tr>\n",
       "  </thead>\n",
       "  <tbody>\n",
       "    <tr>\n",
       "      <th>0</th>\n",
       "      <td>98</td>\n",
       "      <td>100</td>\n",
       "      <td>89</td>\n",
       "      <td>93</td>\n",
       "      <td>100</td>\n",
       "      <td>93</td>\n",
       "      <td>95</td>\n",
       "      <td>66</td>\n",
       "      <td>57</td>\n",
       "    </tr>\n",
       "    <tr>\n",
       "      <th>1</th>\n",
       "      <td>73</td>\n",
       "      <td>100</td>\n",
       "      <td>75</td>\n",
       "      <td>66</td>\n",
       "      <td>86</td>\n",
       "      <td>63</td>\n",
       "      <td>86</td>\n",
       "      <td>51</td>\n",
       "      <td>88</td>\n",
       "    </tr>\n",
       "  </tbody>\n",
       "</table>\n",
       "</div>"
      ],
      "text/plain": [
       "   fuzz_partial_ratio  fuzz_partial_token_set_ratio  \\\n",
       "0                  98                           100   \n",
       "1                  73                           100   \n",
       "\n",
       "   fuzz_partial_token_sort_ratio  fuzz_qratio  fuzz_token_set_ratio  \\\n",
       "0                             89           93                   100   \n",
       "1                             75           66                    86   \n",
       "\n",
       "   fuzz_token_sort_ratio  fuzz_wratio  question_len1  question_len2  \n",
       "0                     93           95             66             57  \n",
       "1                     63           86             51             88  "
      ]
     },
     "execution_count": 17,
     "metadata": {},
     "output_type": "execute_result"
    }
   ],
   "source": [
    "sentence_features.head(2)"
   ]
  },
  {
   "cell_type": "code",
   "execution_count": 18,
   "metadata": {},
   "outputs": [],
   "source": [
    "features = pd.concat([token_features, sentence_features], axis=1)"
   ]
  },
  {
   "cell_type": "code",
   "execution_count": 19,
   "metadata": {},
   "outputs": [
    {
     "data": {
      "text/html": [
       "<div>\n",
       "<style>\n",
       "    .dataframe thead tr:only-child th {\n",
       "        text-align: right;\n",
       "    }\n",
       "\n",
       "    .dataframe thead th {\n",
       "        text-align: left;\n",
       "    }\n",
       "\n",
       "    .dataframe tbody tr th {\n",
       "        vertical-align: top;\n",
       "    }\n",
       "</style>\n",
       "<table border=\"1\" class=\"dataframe\">\n",
       "  <thead>\n",
       "    <tr style=\"text-align: right;\">\n",
       "      <th></th>\n",
       "      <th>braycurtis_distance</th>\n",
       "      <th>canberra_distance</th>\n",
       "      <th>cityblock_distance</th>\n",
       "      <th>cos_distance</th>\n",
       "      <th>jaccard_distance</th>\n",
       "      <th>minkowski_distance</th>\n",
       "      <th>shared_word_score</th>\n",
       "      <th>words_len1</th>\n",
       "      <th>words_len2</th>\n",
       "      <th>fuzz_partial_ratio</th>\n",
       "      <th>fuzz_partial_token_set_ratio</th>\n",
       "      <th>fuzz_partial_token_sort_ratio</th>\n",
       "      <th>fuzz_qratio</th>\n",
       "      <th>fuzz_token_set_ratio</th>\n",
       "      <th>fuzz_token_sort_ratio</th>\n",
       "      <th>fuzz_wratio</th>\n",
       "      <th>question_len1</th>\n",
       "      <th>question_len2</th>\n",
       "    </tr>\n",
       "  </thead>\n",
       "  <tbody>\n",
       "    <tr>\n",
       "      <th>0</th>\n",
       "      <td>0.142465</td>\n",
       "      <td>32.635204</td>\n",
       "      <td>24.759953</td>\n",
       "      <td>0.041607</td>\n",
       "      <td>1.0</td>\n",
       "      <td>2.819773</td>\n",
       "      <td>0.307692</td>\n",
       "      <td>7</td>\n",
       "      <td>6</td>\n",
       "      <td>98</td>\n",
       "      <td>100</td>\n",
       "      <td>89</td>\n",
       "      <td>93</td>\n",
       "      <td>100</td>\n",
       "      <td>93</td>\n",
       "      <td>95</td>\n",
       "      <td>66</td>\n",
       "      <td>57</td>\n",
       "    </tr>\n",
       "    <tr>\n",
       "      <th>1</th>\n",
       "      <td>0.870533</td>\n",
       "      <td>87.560307</td>\n",
       "      <td>86.794571</td>\n",
       "      <td>0.873567</td>\n",
       "      <td>1.0</td>\n",
       "      <td>9.620695</td>\n",
       "      <td>0.153846</td>\n",
       "      <td>4</td>\n",
       "      <td>9</td>\n",
       "      <td>73</td>\n",
       "      <td>100</td>\n",
       "      <td>75</td>\n",
       "      <td>66</td>\n",
       "      <td>86</td>\n",
       "      <td>63</td>\n",
       "      <td>86</td>\n",
       "      <td>51</td>\n",
       "      <td>88</td>\n",
       "    </tr>\n",
       "  </tbody>\n",
       "</table>\n",
       "</div>"
      ],
      "text/plain": [
       "   braycurtis_distance  canberra_distance  cityblock_distance  cos_distance  \\\n",
       "0             0.142465          32.635204           24.759953      0.041607   \n",
       "1             0.870533          87.560307           86.794571      0.873567   \n",
       "\n",
       "   jaccard_distance  minkowski_distance  shared_word_score  words_len1  \\\n",
       "0               1.0            2.819773           0.307692           7   \n",
       "1               1.0            9.620695           0.153846           4   \n",
       "\n",
       "   words_len2  fuzz_partial_ratio  fuzz_partial_token_set_ratio  \\\n",
       "0           6                  98                           100   \n",
       "1           9                  73                           100   \n",
       "\n",
       "   fuzz_partial_token_sort_ratio  fuzz_qratio  fuzz_token_set_ratio  \\\n",
       "0                             89           93                   100   \n",
       "1                             75           66                    86   \n",
       "\n",
       "   fuzz_token_sort_ratio  fuzz_wratio  question_len1  question_len2  \n",
       "0                     93           95             66             57  \n",
       "1                     63           86             51             88  "
      ]
     },
     "execution_count": 19,
     "metadata": {},
     "output_type": "execute_result"
    }
   ],
   "source": [
    "features.head(2)"
   ]
  },
  {
   "cell_type": "code",
   "execution_count": 24,
   "metadata": {},
   "outputs": [],
   "source": [
    "features = features[[u'braycurtis_distance', u'canberra_distance', u'cityblock_distance',\n",
    "       u'cos_distance', u'jaccard_distance',\n",
    "       u'minkowski_distance', u'shared_word_score', u'words_len1', u'words_len2',\n",
    "       u'fuzz_partial_ratio', u'fuzz_partial_token_set_ratio',\n",
    "       u'fuzz_partial_token_sort_ratio', u'fuzz_qratio',\n",
    "       u'fuzz_token_set_ratio', u'fuzz_token_sort_ratio', u'fuzz_wratio',\n",
    "       u'question_len1', u'question_len2']]"
   ]
  },
  {
   "cell_type": "code",
   "execution_count": 25,
   "metadata": {},
   "outputs": [],
   "source": [
    "features.columns = [u'braycurtis_distance', u'canberra_distance', u'cityblock_distance',\n",
    "       u'cos_distance', u'jaccard_distance',\n",
    "       u'minkowski_distance', u'shared_word_score', u'word_len1', u'word_len2',\n",
    "       u'fuzz_partial_ratio', u'fuzz_partial_token_set_ratio',\n",
    "       u'fuzz_partial_token_sort_ratio', u'fuzz_qratio',\n",
    "       u'fuzz_token_set_ratio', u'fuzz_token_sort_ratio', u'fuzz_wratio',\n",
    "       u'question_len1', u'question_len2']"
   ]
  },
  {
   "cell_type": "code",
   "execution_count": 26,
   "metadata": {},
   "outputs": [],
   "source": [
    "features.to_csv(\"../datasets/train_featured.csv\", index=False)"
   ]
  },
  {
   "cell_type": "code",
   "execution_count": null,
   "metadata": {},
   "outputs": [],
   "source": []
  }
 ],
 "metadata": {
  "kernelspec": {
   "display_name": "tensorflow-py2",
   "language": "python",
   "name": "tensorflow-py2"
  },
  "language_info": {
   "codemirror_mode": {
    "name": "ipython",
    "version": 2
   },
   "file_extension": ".py",
   "mimetype": "text/x-python",
   "name": "python",
   "nbconvert_exporter": "python",
   "pygments_lexer": "ipython2",
   "version": "2.7.12"
  }
 },
 "nbformat": 4,
 "nbformat_minor": 2
}
